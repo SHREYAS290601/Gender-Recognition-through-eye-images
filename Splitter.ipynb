{
 "cells": [
  {
   "cell_type": "code",
   "execution_count": 3,
   "id": "ee8f4569",
   "metadata": {},
   "outputs": [],
   "source": [
    "import os,cv2"
   ]
  },
  {
   "cell_type": "code",
   "execution_count": 4,
   "id": "c30cca0f",
   "metadata": {},
   "outputs": [],
   "source": [
    "def read_image_trial(folder):\n",
    "    images=[]\n",
    "    for image in os.listdir(folder):\n",
    "        img=cv2.imread(os.path.join(folder,image))\n",
    "        if img is not None:\n",
    "            images.append(img)\n",
    "    return images"
   ]
  },
  {
   "cell_type": "code",
   "execution_count": 5,
   "id": "84085efc",
   "metadata": {},
   "outputs": [],
   "source": [
    "trial=read_image_trial('1.M')"
   ]
  },
  {
   "cell_type": "code",
   "execution_count": 40,
   "id": "cf55e0bc",
   "metadata": {},
   "outputs": [],
   "source": [
    "male,female=[],[]\n",
    "for dirpath,dirname,filename in os.walk(os.getcwd()):\n",
    "    name,gender=os.path.splitext(os.path.basename(dirpath))\n",
    "    if gender == '.M':\n",
    "        male.append([name,gender])\n",
    "    elif gender == '.F':\n",
    "        female.append([name,gender])\n",
    "    else:\n",
    "        pass"
   ]
  },
  {
   "cell_type": "code",
   "execution_count": 14,
   "id": "526daa6a",
   "metadata": {},
   "outputs": [
    {
     "data": {
      "text/plain": [
       "('1', '.M')"
      ]
     },
     "execution_count": 14,
     "metadata": {},
     "output_type": "execute_result"
    }
   ],
   "source": [
    "os.path.splitext(os.path.basename('IrisImage/1.M'))"
   ]
  },
  {
   "cell_type": "code",
   "execution_count": 50,
   "id": "a5be5b8b",
   "metadata": {},
   "outputs": [],
   "source": [
    "male=[\"\".join(i) for i in male]\n",
    "female=[\"\".join(i) for i in female]"
   ]
  },
  {
   "cell_type": "code",
   "execution_count": 55,
   "id": "96b01864",
   "metadata": {},
   "outputs": [],
   "source": [
    "import shutil"
   ]
  },
  {
   "cell_type": "code",
   "execution_count": 71,
   "id": "265123e0",
   "metadata": {},
   "outputs": [],
   "source": [
    "dest_file=os.getcwd()+\"\\\\Train\"\n",
    "src_file=os.getcwd()+\"\\\\\"\n",
    "for file in female:\n",
    "    if os.path.exists(dest_file+file):\n",
    "        pass\n",
    "    else:\n",
    "        shutil.move(src_file+file,dest_file+'\\\\Female')"
   ]
  },
  {
   "cell_type": "code",
   "execution_count": null,
   "id": "2cb8518d",
   "metadata": {},
   "outputs": [],
   "source": []
  }
 ],
 "metadata": {
  "kernelspec": {
   "display_name": "Python 3 (ipykernel)",
   "language": "python",
   "name": "python3"
  },
  "language_info": {
   "codemirror_mode": {
    "name": "ipython",
    "version": 3
   },
   "file_extension": ".py",
   "mimetype": "text/x-python",
   "name": "python",
   "nbconvert_exporter": "python",
   "pygments_lexer": "ipython3",
   "version": "3.9.7"
  }
 },
 "nbformat": 4,
 "nbformat_minor": 5
}
